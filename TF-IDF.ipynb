{
 "cells": [
  {
   "cell_type": "markdown",
   "id": "1b6314ff-30ef-4c7e-b72b-b7297eb9d07a",
   "metadata": {},
   "source": [
    "## TF-IDF: Term Frequency - Inverse Document Frequency)\n",
    "learning source: https://www.youtube.com/watch?v=f0a1XXmaQp8&list=PL2O3HdJI4voHNEv59SdXKRQVRZAFmwN9E&index=12"
   ]
  },
  {
   "cell_type": "markdown",
   "id": "f429e3de-90fa-4099-87e1-48a163977ccb",
   "metadata": {},
   "source": [
    "- **TF-IDF** merupakan salah satu metode statistik yang digunakan untuk **mengukur seberapa penting suatu kata terhadap suatu dokumen tertentu** dari sekumpulan corpus\n",
    "- Pada dasarnya melibatkan perkalian dua nilai yaitu TF dan IDF\n",
    "- Implementasi term frequency pada sklearn mengdopsi formula **term frequency adjusted for document length** dimana TF diekspresikan sebagai hasil pembagian antara jumlah kemunculan suatu term pada document dengan total jumlah kata dalam document tersebut\n",
    "- TF-IDF juga menerapkan normalisasi 'l2'\n",
    "- [Dokumentasi sklearn](https://scikit-learn.org/stable/modules/feature_extraction.html#text-feature-extraction)"
   ]
  },
  {
   "cell_type": "markdown",
   "id": "b54d3fac-5559-4e68-9255-8849ecb5e059",
   "metadata": {},
   "source": [
    "### *Dataset*\n",
    "---"
   ]
  },
  {
   "cell_type": "code",
   "execution_count": 1,
   "id": "d260c80b-b083-402b-9753-94fc1e1e1267",
   "metadata": {},
   "outputs": [
    {
     "data": {
      "text/plain": [
       "['the house had a tiny little mouse',\n",
       " 'the cat saw the mouse',\n",
       " 'the mouse ran away from the house',\n",
       " 'the cat finally ate the mouse',\n",
       " 'the end of the mouse story']"
      ]
     },
     "execution_count": 1,
     "metadata": {},
     "output_type": "execute_result"
    }
   ],
   "source": [
    "corpus = [\n",
    "    'the house had a tiny little mouse',\n",
    "    'the cat saw the mouse',\n",
    "    'the mouse ran away from the house',\n",
    "    'the cat finally ate the mouse',\n",
    "    'the end of the mouse story']\n",
    "\n",
    "corpus"
   ]
  },
  {
   "cell_type": "markdown",
   "id": "88540a18-868b-4412-b00f-43de8cc99ce8",
   "metadata": {},
   "source": [
    "### *TF-IDF Weights dengan **TfidfVectorizer***\n",
    "---"
   ]
  },
  {
   "cell_type": "code",
   "execution_count": 4,
   "id": "2de1784f-b038-49dc-a79b-e4aed4f7f86c",
   "metadata": {},
   "outputs": [
    {
     "name": "stdout",
     "output_type": "stream",
     "text": [
      "  (0, 7)\t0.2808823162882302\n",
      "  (0, 6)\t0.5894630806320427\n",
      "  (0, 11)\t0.5894630806320427\n",
      "  (0, 5)\t0.47557510189256375\n",
      "  (1, 9)\t0.7297183669435993\n",
      "  (1, 2)\t0.5887321837696324\n",
      "  (1, 7)\t0.3477147117091919\n",
      "  (2, 1)\t0.5894630806320427\n",
      "  (2, 8)\t0.5894630806320427\n",
      "  (2, 7)\t0.2808823162882302\n",
      "  (2, 5)\t0.47557510189256375\n",
      "  (3, 0)\t0.5894630806320427\n",
      "  (3, 4)\t0.5894630806320427\n",
      "  (3, 2)\t0.47557510189256375\n",
      "  (3, 7)\t0.2808823162882302\n",
      "  (4, 10)\t0.6700917930430479\n",
      "  (4, 3)\t0.6700917930430479\n",
      "  (4, 7)\t0.3193023297639811\n"
     ]
    }
   ],
   "source": [
    "from sklearn.feature_extraction.text import TfidfVectorizer\n",
    "\n",
    "vectorizer = TfidfVectorizer(stop_words='english')\n",
    "response = vectorizer.fit_transform(corpus)\n",
    "print(response)"
   ]
  },
  {
   "cell_type": "markdown",
   "id": "5fee178a-fd46-441b-8119-bc57f2c94e83",
   "metadata": {},
   "source": [
    "**Cara membaca :**\n",
    "- Angka dalam tuple\n",
    "    - sisi kiri : merepresentasikan index dari corpus, 0 merepresentasikan kalimat pertama dari corpus, 1 merepresentasikan kalimat kedua dari corpus, dst.\n",
    "    - sisi kanan : index dari feature name yang dihasilkan/token (panggil dengan get_feature_names_out/kode dibawah)\n",
    "- Sekumpulan angka paling kanan: bobot dari tiap tf-idf hasil kalkulasi"
   ]
  },
  {
   "cell_type": "code",
   "execution_count": 5,
   "id": "e7950bde-b26d-4996-a8c9-dd5ba4fcec92",
   "metadata": {},
   "outputs": [
    {
     "data": {
      "text/plain": [
       "array(['ate', 'away', 'cat', 'end', 'finally', 'house', 'little', 'mouse',\n",
       "       'ran', 'saw', 'story', 'tiny'], dtype=object)"
      ]
     },
     "execution_count": 5,
     "metadata": {},
     "output_type": "execute_result"
    }
   ],
   "source": [
    "vectorizer.get_feature_names_out()"
   ]
  },
  {
   "cell_type": "markdown",
   "id": "dee8341e-4feb-48ea-9deb-9bef830864d1",
   "metadata": {},
   "source": [
    "index|feature\n",
    "---|---\n",
    "0|ate\n",
    "1|away\n",
    "2|cat\n",
    "3|end\n",
    "4|finally\n",
    "5|house\n",
    "6|little\n",
    "7|mouse\n",
    "8|ran\n",
    "9|saw\n",
    "10|story\n",
    "11|tiny"
   ]
  },
  {
   "cell_type": "markdown",
   "id": "b3a1e4c3-fbf1-45b6-8ab2-dc4a2809352d",
   "metadata": {},
   "source": [
    "Kalimat pada index 0 : **'the house had a tiny little mouse'** <br>\n",
    "Output response : \n",
    "- (0, 7) - Kalimat pada corpus pertama ini mengandung index ke-7 yaitu **mouse**\n",
    "- (0, 6) - Kalimat pada corpus pertama ini mengandung index ke-6 yaitu **little**\n",
    "- (0, 11) - Kalimat pada corpus pertama ini mengandung index ke-11 yaitu **tiny**\n",
    "- (0, 5) - Kalimat pada corpus pertama ini mengandung index ke-5 yaitu **house**"
   ]
  },
  {
   "cell_type": "markdown",
   "id": "3a86c1e5-f0c2-4d92-8eae-49f729fc8c75",
   "metadata": {},
   "source": [
    "**Hasil kalkulasi**"
   ]
  },
  {
   "cell_type": "code",
   "execution_count": 6,
   "id": "c5eb95f1-f5d5-440e-86a3-c4d6cd3b40fe",
   "metadata": {},
   "outputs": [
    {
     "data": {
      "text/plain": [
       "matrix([[0.        , 0.        , 0.        , 0.        , 0.        ,\n",
       "         0.4755751 , 0.58946308, 0.28088232, 0.        , 0.        ,\n",
       "         0.        , 0.58946308],\n",
       "        [0.        , 0.        , 0.58873218, 0.        , 0.        ,\n",
       "         0.        , 0.        , 0.34771471, 0.        , 0.72971837,\n",
       "         0.        , 0.        ],\n",
       "        [0.        , 0.58946308, 0.        , 0.        , 0.        ,\n",
       "         0.4755751 , 0.        , 0.28088232, 0.58946308, 0.        ,\n",
       "         0.        , 0.        ],\n",
       "        [0.58946308, 0.        , 0.4755751 , 0.        , 0.58946308,\n",
       "         0.        , 0.        , 0.28088232, 0.        , 0.        ,\n",
       "         0.        , 0.        ],\n",
       "        [0.        , 0.        , 0.        , 0.67009179, 0.        ,\n",
       "         0.        , 0.        , 0.31930233, 0.        , 0.        ,\n",
       "         0.67009179, 0.        ]])"
      ]
     },
     "execution_count": 6,
     "metadata": {},
     "output_type": "execute_result"
    }
   ],
   "source": [
    "response.todense()"
   ]
  },
  {
   "cell_type": "markdown",
   "id": "15da984c-b0cf-44ac-8cd7-13a8d63384ca",
   "metadata": {},
   "source": [
    "Setiap row merepresentasikan setiap kalimat atau document pada corpus. Agar lebih readable dapat dikonversi ke dataframe."
   ]
  },
  {
   "cell_type": "code",
   "execution_count": 7,
   "id": "6c012e01-a28d-4faf-b427-cd4bdd7e7bea",
   "metadata": {},
   "outputs": [
    {
     "data": {
      "text/html": [
       "<div>\n",
       "<style scoped>\n",
       "    .dataframe tbody tr th:only-of-type {\n",
       "        vertical-align: middle;\n",
       "    }\n",
       "\n",
       "    .dataframe tbody tr th {\n",
       "        vertical-align: top;\n",
       "    }\n",
       "\n",
       "    .dataframe thead th {\n",
       "        text-align: right;\n",
       "    }\n",
       "</style>\n",
       "<table border=\"1\" class=\"dataframe\">\n",
       "  <thead>\n",
       "    <tr style=\"text-align: right;\">\n",
       "      <th></th>\n",
       "      <th>D1</th>\n",
       "      <th>D2</th>\n",
       "      <th>D3</th>\n",
       "      <th>D4</th>\n",
       "      <th>D5</th>\n",
       "    </tr>\n",
       "  </thead>\n",
       "  <tbody>\n",
       "    <tr>\n",
       "      <th>ate</th>\n",
       "      <td>0.000000</td>\n",
       "      <td>0.000000</td>\n",
       "      <td>0.000000</td>\n",
       "      <td>0.589463</td>\n",
       "      <td>0.000000</td>\n",
       "    </tr>\n",
       "    <tr>\n",
       "      <th>away</th>\n",
       "      <td>0.000000</td>\n",
       "      <td>0.000000</td>\n",
       "      <td>0.589463</td>\n",
       "      <td>0.000000</td>\n",
       "      <td>0.000000</td>\n",
       "    </tr>\n",
       "    <tr>\n",
       "      <th>cat</th>\n",
       "      <td>0.000000</td>\n",
       "      <td>0.588732</td>\n",
       "      <td>0.000000</td>\n",
       "      <td>0.475575</td>\n",
       "      <td>0.000000</td>\n",
       "    </tr>\n",
       "    <tr>\n",
       "      <th>end</th>\n",
       "      <td>0.000000</td>\n",
       "      <td>0.000000</td>\n",
       "      <td>0.000000</td>\n",
       "      <td>0.000000</td>\n",
       "      <td>0.670092</td>\n",
       "    </tr>\n",
       "    <tr>\n",
       "      <th>finally</th>\n",
       "      <td>0.000000</td>\n",
       "      <td>0.000000</td>\n",
       "      <td>0.000000</td>\n",
       "      <td>0.589463</td>\n",
       "      <td>0.000000</td>\n",
       "    </tr>\n",
       "    <tr>\n",
       "      <th>house</th>\n",
       "      <td>0.475575</td>\n",
       "      <td>0.000000</td>\n",
       "      <td>0.475575</td>\n",
       "      <td>0.000000</td>\n",
       "      <td>0.000000</td>\n",
       "    </tr>\n",
       "    <tr>\n",
       "      <th>little</th>\n",
       "      <td>0.589463</td>\n",
       "      <td>0.000000</td>\n",
       "      <td>0.000000</td>\n",
       "      <td>0.000000</td>\n",
       "      <td>0.000000</td>\n",
       "    </tr>\n",
       "    <tr>\n",
       "      <th>mouse</th>\n",
       "      <td>0.280882</td>\n",
       "      <td>0.347715</td>\n",
       "      <td>0.280882</td>\n",
       "      <td>0.280882</td>\n",
       "      <td>0.319302</td>\n",
       "    </tr>\n",
       "    <tr>\n",
       "      <th>ran</th>\n",
       "      <td>0.000000</td>\n",
       "      <td>0.000000</td>\n",
       "      <td>0.589463</td>\n",
       "      <td>0.000000</td>\n",
       "      <td>0.000000</td>\n",
       "    </tr>\n",
       "    <tr>\n",
       "      <th>saw</th>\n",
       "      <td>0.000000</td>\n",
       "      <td>0.729718</td>\n",
       "      <td>0.000000</td>\n",
       "      <td>0.000000</td>\n",
       "      <td>0.000000</td>\n",
       "    </tr>\n",
       "    <tr>\n",
       "      <th>story</th>\n",
       "      <td>0.000000</td>\n",
       "      <td>0.000000</td>\n",
       "      <td>0.000000</td>\n",
       "      <td>0.000000</td>\n",
       "      <td>0.670092</td>\n",
       "    </tr>\n",
       "    <tr>\n",
       "      <th>tiny</th>\n",
       "      <td>0.589463</td>\n",
       "      <td>0.000000</td>\n",
       "      <td>0.000000</td>\n",
       "      <td>0.000000</td>\n",
       "      <td>0.000000</td>\n",
       "    </tr>\n",
       "  </tbody>\n",
       "</table>\n",
       "</div>"
      ],
      "text/plain": [
       "               D1        D2        D3        D4        D5\n",
       "ate      0.000000  0.000000  0.000000  0.589463  0.000000\n",
       "away     0.000000  0.000000  0.589463  0.000000  0.000000\n",
       "cat      0.000000  0.588732  0.000000  0.475575  0.000000\n",
       "end      0.000000  0.000000  0.000000  0.000000  0.670092\n",
       "finally  0.000000  0.000000  0.000000  0.589463  0.000000\n",
       "house    0.475575  0.000000  0.475575  0.000000  0.000000\n",
       "little   0.589463  0.000000  0.000000  0.000000  0.000000\n",
       "mouse    0.280882  0.347715  0.280882  0.280882  0.319302\n",
       "ran      0.000000  0.000000  0.589463  0.000000  0.000000\n",
       "saw      0.000000  0.729718  0.000000  0.000000  0.000000\n",
       "story    0.000000  0.000000  0.000000  0.000000  0.670092\n",
       "tiny     0.589463  0.000000  0.000000  0.000000  0.000000"
      ]
     },
     "execution_count": 7,
     "metadata": {},
     "output_type": "execute_result"
    }
   ],
   "source": [
    "import pandas as pd\n",
    "\n",
    "df = pd.DataFrame(response.todense().T,\n",
    "                  index=vectorizer.get_feature_names_out(),\n",
    "                  columns=[f'D{i+1}' for i in range (len(corpus))])\n",
    "\n",
    "df"
   ]
  },
  {
   "cell_type": "markdown",
   "id": "3906497e-cda0-49f0-8fd1-a74ccff0a2d8",
   "metadata": {},
   "source": [
    "**Contoh cara membaca:** <br>\n",
    "- Untuk kata **cat** terdapat dalam dukumen **kedua (D2)** dan dokumen **keempat (D4)**, hanya saja kata cat ini lebih tinggi bobotnya pada dokumen kedua dibandingkan dengan dokumen keempat.\n",
    "\n",
    "- Semakin tinggi bobot suatu kata pada suatu dokumen mengindikasikan bahwa kata tersebut semakin layak untuk digunakan menjadi keyword untuk dokumen tersebut."
   ]
  },
  {
   "cell_type": "code",
   "execution_count": null,
   "id": "1c58c95a-010c-4cf9-bf78-e06cfedd7367",
   "metadata": {},
   "outputs": [],
   "source": []
  }
 ],
 "metadata": {
  "kernelspec": {
   "display_name": "Python 3 (ipykernel)",
   "language": "python",
   "name": "python3"
  },
  "language_info": {
   "codemirror_mode": {
    "name": "ipython",
    "version": 3
   },
   "file_extension": ".py",
   "mimetype": "text/x-python",
   "name": "python",
   "nbconvert_exporter": "python",
   "pygments_lexer": "ipython3",
   "version": "3.9.15"
  }
 },
 "nbformat": 4,
 "nbformat_minor": 5
}
