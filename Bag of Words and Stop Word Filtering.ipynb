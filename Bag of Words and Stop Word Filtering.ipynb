{
 "cells": [
  {
   "cell_type": "markdown",
   "id": "1ed3fb06-1275-4a95-ae60-3ee6d20a7f95",
   "metadata": {},
   "source": [
    "## Text Processing: Bag of Words & Stop Word Filtering\n",
    "learning source: https://www.youtube.com/watch?v=U30sF4m0bd0&list=PL2O3HdJI4voHNEv59SdXKRQVRZAFmwN9E&index=11"
   ]
  },
  {
   "cell_type": "markdown",
   "id": "62925df3-a3af-41e3-bca7-93e04ce9d30f",
   "metadata": {},
   "source": [
    "### **Bag of Words**\n",
    "- Bag of words menyederhanakan representasi text sebagai sekumpulan kata serta mengabaikan grammar dan posisi tiap kata pada kalimat\n",
    "- Text akan dikonversi menjadi lowercase dan tanda baca akan diabaikan"
   ]
  },
  {
   "cell_type": "markdown",
   "id": "8b7abd93-7fcf-462e-a347-72664530f999",
   "metadata": {},
   "source": [
    "#### *Dataset*\n",
    "---"
   ]
  },
  {
   "cell_type": "markdown",
   "id": "0e9ec6bd-1e1c-458b-abfa-ddd6706afb30",
   "metadata": {},
   "source": [
    "Corpus adalah kumpulan teks yang menangkap penggunaan bahasa dalam bentuk tertulis atau lisan."
   ]
  },
  {
   "cell_type": "code",
   "execution_count": 1,
   "id": "4d797753-d6dc-4df6-94df-475292ea459a",
   "metadata": {},
   "outputs": [
    {
     "data": {
      "text/plain": [
       "['Linux has been around since the mid-1990s.',\n",
       " 'Linux distributions include the Linux kernel.',\n",
       " 'Linux is one of the most prominent open-source software.']"
      ]
     },
     "execution_count": 1,
     "metadata": {},
     "output_type": "execute_result"
    }
   ],
   "source": [
    "corpus = [\n",
    "    'Linux has been around since the mid-1990s.',\n",
    "    'Linux distributions include the Linux kernel.',\n",
    "    'Linux is one of the most prominent open-source software.']\n",
    "\n",
    "corpus"
   ]
  },
  {
   "cell_type": "markdown",
   "id": "123d92e2-7d0e-4c9a-a669-4dcc5fd6dfa0",
   "metadata": {},
   "source": [
    "#### *CountVectorizer*\n",
    "---\n",
    "Bag of words model dapat diterapkan dengan memanfaatkan `CountVectorizer`"
   ]
  },
  {
   "cell_type": "code",
   "execution_count": 2,
   "id": "40c1a693-67cb-4d8f-addb-f620a0344446",
   "metadata": {},
   "outputs": [
    {
     "data": {
      "text/plain": [
       "matrix([[1, 1, 1, 0, 1, 0, 0, 0, 1, 1, 0, 0, 0, 0, 0, 1, 0, 0, 1],\n",
       "        [0, 0, 0, 1, 0, 1, 0, 1, 2, 0, 0, 0, 0, 0, 0, 0, 0, 0, 1],\n",
       "        [0, 0, 0, 0, 0, 0, 1, 0, 1, 0, 1, 1, 1, 1, 1, 0, 1, 1, 1]],\n",
       "       dtype=int64)"
      ]
     },
     "execution_count": 2,
     "metadata": {},
     "output_type": "execute_result"
    }
   ],
   "source": [
    "from sklearn.feature_extraction.text import CountVectorizer\n",
    "\n",
    "vectorizer = CountVectorizer()\n",
    "vectorized_X = vectorizer.fit_transform(corpus).todense()\n",
    "vectorized_X"
   ]
  },
  {
   "cell_type": "markdown",
   "id": "aded1027-5ac1-4fe7-8424-0b81c5778dd8",
   "metadata": {},
   "source": [
    "- Setiap baris merepresentasikan tiap kalimat didalam corpus\n",
    "- Sekumpulan bilangan 0, 1, 2 dst merepresentasikan fitur/kata dalam bag (output kode dibawah)"
   ]
  },
  {
   "cell_type": "code",
   "execution_count": 3,
   "id": "ece49fbd-c99a-451d-8518-12b6af35d276",
   "metadata": {},
   "outputs": [
    {
     "data": {
      "text/plain": [
       "array(['1990s', 'around', 'been', 'distributions', 'has', 'include', 'is',\n",
       "       'kernel', 'linux', 'mid', 'most', 'of', 'one', 'open', 'prominent',\n",
       "       'since', 'software', 'source', 'the'], dtype=object)"
      ]
     },
     "execution_count": 3,
     "metadata": {},
     "output_type": "execute_result"
    }
   ],
   "source": [
    "vectorizer.get_feature_names_out()"
   ]
  },
  {
   "cell_type": "markdown",
   "id": "ab8e12c2-7bdf-48c8-b681-772d26ef9fbb",
   "metadata": {},
   "source": [
    "- get_feature_names_out ini menghasilkan output sekumpulan kata dalam keranjang/bag (dataset corpus)\n",
    "- Diurutkan secara alfabetik\n",
    "- Semua di lowercase\n",
    "- Setiap kata yang ditampung dalam bag juga dikenal dengan istilah token"
   ]
  },
  {
   "cell_type": "markdown",
   "id": "9453873b-2909-4fb2-93fd-8422e9d7fb4a",
   "metadata": {},
   "source": [
    "**Contoh Penjelasan:**\n",
    "Kalimat 1 - 'Linux has been around since the mid-1990s.'\n",
    "\n",
    "\n",
    "|**Fitur**|'1990s'|'around'|'been'|'distributions'|'has'|'include'|'is'|'kernel'|'linux'|'mid'|'most'|'of'|'one'|'open'|'prominent'|'since'|'software'|'source'|'the'|\n",
    "|---|---|---|---|---|---|---|---|---|---|---|---|---|---|---|---|---|---|---|---|\n",
    "|**Jumlah Kemunculan**|1|1|1|0|1|0|0|0|1|1|0|0|0|0|0|1|0|0|1|\n",
    "\n",
    "<br>\n"
   ]
  },
  {
   "cell_type": "markdown",
   "id": "021644d9-dbfa-4c6b-9a17-f62c0d6ac130",
   "metadata": {},
   "source": [
    "#### *Euclidean Distance*\n",
    "---\n",
    "Untuk mengukur kedekatan/jarak antar dokumen (vector) :\n",
    "- Berapa kedekatan kalimat 1 dengan kalimat 2?\n",
    "- Kalimat 1 dengan kalimat 3?\n",
    "- Kalimat 2 dengan kalimat 3?"
   ]
  },
  {
   "cell_type": "code",
   "execution_count": 4,
   "id": "72d5d9f0-42d3-4cea-878b-26f1444d181c",
   "metadata": {},
   "outputs": [],
   "source": [
    "import warnings\n",
    "warnings.filterwarnings(\"ignore\")"
   ]
  },
  {
   "cell_type": "code",
   "execution_count": 5,
   "id": "c9fbb182-21cd-4f02-9081-3c56aaa5b4b5",
   "metadata": {},
   "outputs": [
    {
     "name": "stdout",
     "output_type": "stream",
     "text": [
      "Kedekatan kalimat 1 dan 2: [[3.16227766]]\n",
      "Kedekatan kalimat 1 dan 3: [[3.74165739]]\n",
      "Kedekatan kalimat 2 dan 3: [[3.46410162]]\n"
     ]
    }
   ],
   "source": [
    "from sklearn.metrics.pairwise import euclidean_distances\n",
    "\n",
    "for i in range (len(vectorized_X)):\n",
    "    for j in range (i, len(vectorized_X)):\n",
    "        if i == j:\n",
    "            continue\n",
    "        jarak = euclidean_distances(vectorized_X[i], vectorized_X[j])\n",
    "        print(f'Kedekatan kalimat {i+1} dan {j+1}: {jarak}')"
   ]
  },
  {
   "cell_type": "markdown",
   "id": "d40248f0-890d-49c4-9f77-25d9e7b191fa",
   "metadata": {},
   "source": [
    "**Kesimpulan :** tingkat kemiripan kalimat 1 dengan kalimat 2 adalah yang paling tinggi"
   ]
  },
  {
   "cell_type": "code",
   "execution_count": null,
   "id": "bcb875c2-b81b-46d7-8d1f-c96594f1644e",
   "metadata": {},
   "outputs": [],
   "source": []
  },
  {
   "cell_type": "markdown",
   "id": "1c409b45-299a-4778-9867-02bbd9f82ce8",
   "metadata": {},
   "source": [
    "### **Stop Word Filtering**\n",
    "- Menyederhanakan representasi text dengan **mengabaikan** beberapa kata seperti determiners (**the, a, an**), auxiliary verbs (**do, be, will**), dan preposition (**on, in, at**)"
   ]
  },
  {
   "cell_type": "markdown",
   "id": "30b8fa72-2850-467c-9254-904ac58e44c1",
   "metadata": {},
   "source": [
    "#### *Dataset*\n",
    "---"
   ]
  },
  {
   "cell_type": "code",
   "execution_count": 6,
   "id": "b2d947ed-9e95-4222-a4cd-ce9cd3c1e577",
   "metadata": {},
   "outputs": [
    {
     "data": {
      "text/plain": [
       "['Linux has been around since the mid-1990s.',\n",
       " 'Linux distributions include the Linux kernel.',\n",
       " 'Linux is one of the most prominent open-source software.']"
      ]
     },
     "execution_count": 6,
     "metadata": {},
     "output_type": "execute_result"
    }
   ],
   "source": [
    "corpus"
   ]
  },
  {
   "cell_type": "markdown",
   "id": "8d7ee543-bb70-40ff-a499-80fd791bd513",
   "metadata": {},
   "source": [
    "#### *CountVectorizer*\n",
    "---\n",
    "Stop Word Filtering juga dapat diterapkan dengan memanfaatkan `CountVectorizer`"
   ]
  },
  {
   "cell_type": "code",
   "execution_count": 7,
   "id": "3dde1427-c854-4d89-b18a-f2b85ef32c39",
   "metadata": {},
   "outputs": [
    {
     "data": {
      "text/plain": [
       "matrix([[1, 0, 0, 0, 1, 1, 0, 0, 0, 0],\n",
       "        [0, 1, 1, 1, 2, 0, 0, 0, 0, 0],\n",
       "        [0, 0, 0, 0, 1, 0, 1, 1, 1, 1]], dtype=int64)"
      ]
     },
     "execution_count": 7,
     "metadata": {},
     "output_type": "execute_result"
    }
   ],
   "source": [
    "from sklearn.feature_extraction.text import CountVectorizer\n",
    "\n",
    "vectorizer = CountVectorizer(stop_words='english')\n",
    "vectorized_X = vectorizer.fit_transform(corpus).todense()\n",
    "vectorized_X"
   ]
  },
  {
   "cell_type": "code",
   "execution_count": 8,
   "id": "de050c15-19ec-46e3-b33e-e7d4ff53946a",
   "metadata": {},
   "outputs": [
    {
     "data": {
      "text/plain": [
       "array(['1990s', 'distributions', 'include', 'kernel', 'linux', 'mid',\n",
       "       'open', 'prominent', 'software', 'source'], dtype=object)"
      ]
     },
     "execution_count": 8,
     "metadata": {},
     "output_type": "execute_result"
    }
   ],
   "source": [
    "vectorizer.get_feature_names_out()"
   ]
  },
  {
   "cell_type": "markdown",
   "id": "3ef84c67-b95e-4141-8b9d-bdbef041a48f",
   "metadata": {},
   "source": [
    "Representasi kalimat yang lebih sederhana"
   ]
  },
  {
   "cell_type": "markdown",
   "id": "a634cd78-3ec5-4aa0-a59a-08516df79fc5",
   "metadata": {},
   "source": [
    "#### *Euclidean Distance*\n",
    "---"
   ]
  },
  {
   "cell_type": "code",
   "execution_count": 9,
   "id": "c6fb5e7e-1cba-4e1f-a2fd-c98b0509e356",
   "metadata": {},
   "outputs": [
    {
     "name": "stdout",
     "output_type": "stream",
     "text": [
      "Kedekatan kalimat 1 dan 2: [[2.44948974]]\n",
      "Kedekatan kalimat 1 dan 3: [[2.44948974]]\n",
      "Kedekatan kalimat 2 dan 3: [[2.82842712]]\n"
     ]
    }
   ],
   "source": [
    "from sklearn.metrics.pairwise import euclidean_distances\n",
    "\n",
    "for i in range (len(vectorized_X)):\n",
    "    for j in range (i, len(vectorized_X)):\n",
    "        if i == j:\n",
    "            continue\n",
    "        jarak = euclidean_distances(vectorized_X[i], vectorized_X[j])\n",
    "        print(f'Kedekatan kalimat {i+1} dan {j+1}: {jarak}')"
   ]
  },
  {
   "cell_type": "markdown",
   "id": "28a7f366-e279-483a-a992-c3bdc5164b49",
   "metadata": {},
   "source": [
    "**Kesimpulan :** tingkat kemiripan kalimat 1 dengan kalimat 2 dan 3 adalah sama dan yang paling tinggi"
   ]
  },
  {
   "cell_type": "markdown",
   "id": "566bbe85-1803-4227-a49d-2cb13defc88f",
   "metadata": {},
   "source": [
    "### **Kesimpulan**\n",
    "\n",
    "- Stop word filtering adalah teknik untuk menghilangkan kata-kata yang dianggap tidak memiliki nilai prediktif atau tidak penting dalam analisis teks. Tujuan dari stop word filtering adalah untuk memfokuskan analisis pada kata-kata yang lebih penting atau memiliki nilai prediktif yang lebih tinggi.\n",
    "\n",
    "- Bags of words (BoW) adalah representasi teks yang merepresentasikan sebuah dokumen sebagai sebuah kumpulan kata-kata atau token. Dalam BoW, setiap kata dalam dokumen dianggap sebagai sebuah fitur atau variabel, dan dokumen direpresentasikan sebagai sebuah vektor yang berisi frekuensi kemunculan setiap kata dalam dokumen tersebut. BoW tidak memperhatikan urutan kata-kata dalam dokumen, melainkan hanya memperhatikan frekuensi kemunculan kata-kata tertentu dalam dokumen."
   ]
  },
  {
   "cell_type": "code",
   "execution_count": null,
   "id": "631e3e7f-66c9-42d6-86df-5534d56f070c",
   "metadata": {},
   "outputs": [],
   "source": []
  }
 ],
 "metadata": {
  "kernelspec": {
   "display_name": "Python 3 (ipykernel)",
   "language": "python",
   "name": "python3"
  },
  "language_info": {
   "codemirror_mode": {
    "name": "ipython",
    "version": 3
   },
   "file_extension": ".py",
   "mimetype": "text/x-python",
   "name": "python",
   "nbconvert_exporter": "python",
   "pygments_lexer": "ipython3",
   "version": "3.9.15"
  }
 },
 "nbformat": 4,
 "nbformat_minor": 5
}
